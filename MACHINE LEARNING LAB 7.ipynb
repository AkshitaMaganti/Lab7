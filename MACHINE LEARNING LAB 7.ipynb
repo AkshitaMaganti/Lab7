{
 "cells": [
  {
   "cell_type": "code",
   "execution_count": 1,
   "id": "4ab7ae13",
   "metadata": {},
   "outputs": [
    {
     "name": "stdout",
     "output_type": "stream",
     "text": [
      "                        Timestamp           Locality   Latitude  Longitude  \\\n",
      "0      2023-05-05 12:50:40.000000           Anisabad  25.599109  85.137355   \n",
      "1      2023-05-05 12:53:47.210173        Fraser Road  25.433286  85.070053   \n",
      "2      2023-05-05 12:56:54.420346  Boring Canal Road  25.498809  85.211371   \n",
      "3      2023-05-05 13:00:01.630519            Danapur  25.735138  85.208400   \n",
      "4      2023-05-05 13:03:08.840692    Phulwari Sharif  25.538556  85.159860   \n",
      "...                           ...                ...        ...        ...   \n",
      "16824  2023-06-10 23:44:23.950552        Pataliputra  25.542846  85.129611   \n",
      "16825  2023-06-10 23:47:31.160725  Boring Canal Road  25.724624  85.233365   \n",
      "16826  2023-06-10 23:50:38.370898        Boring Road  25.574020  85.030036   \n",
      "16827  2023-06-10 23:53:45.581071        Boring Road  25.619325  85.183155   \n",
      "16828  2023-06-10 23:56:52.791244     Rajendra Nagar  25.682516  85.264655   \n",
      "\n",
      "       Signal Strength (dBm)  Signal Quality (%)  Data Throughput (Mbps)  \\\n",
      "0                 -84.274113                 0.0                1.863890   \n",
      "1                 -97.653121                 0.0                5.132296   \n",
      "2                 -87.046134                 0.0                1.176985   \n",
      "3                 -94.143159                 0.0               68.596932   \n",
      "4                 -94.564765                 0.0               38.292038   \n",
      "...                      ...                 ...                     ...   \n",
      "16824             -92.024221                 0.0                3.720856   \n",
      "16825             -87.579509                 0.0                2.117080   \n",
      "16826             -90.451396                 0.0               72.870842   \n",
      "16827             -85.661814                 0.0                2.482843   \n",
      "16828             -93.228967                 0.0                1.638291   \n",
      "\n",
      "       Latency (ms) Network Type  BB60C Measurement (dBm)  \\\n",
      "0        129.122914           3G                 0.000000   \n",
      "1         54.883606           4G               -95.810791   \n",
      "2        119.598286          LTE               -91.593861   \n",
      "3         46.598387           5G               -90.642773   \n",
      "4         30.342828           5G               -90.489100   \n",
      "...             ...          ...                      ...   \n",
      "16824     53.376474           4G               -90.177947   \n",
      "16825    134.458401          LTE               -87.694985   \n",
      "16826     32.556578           5G               -91.098875   \n",
      "16827    144.007572           3G                 0.000000   \n",
      "16828    123.234570          LTE               -95.598301   \n",
      "\n",
      "       srsRAN Measurement (dBm)  BladeRFxA9 Measurement (dBm)  \n",
      "0                      0.000000                      0.000000  \n",
      "1                   -105.452359                    -99.920892  \n",
      "2                    -95.419482                    -87.714070  \n",
      "3                   -101.895905                    -96.570698  \n",
      "4                   -103.318304                    -95.102467  \n",
      "...                         ...                           ...  \n",
      "16824                -97.971619                    -93.362041  \n",
      "16825                -92.616868                    -84.749607  \n",
      "16826                -97.447725                    -87.752628  \n",
      "16827                  0.000000                      0.000000  \n",
      "16828                -99.438645                    -94.268015  \n",
      "\n",
      "[16829 rows x 12 columns]\n"
     ]
    }
   ],
   "source": [
    "import pandas as pd\n",
    "import numpy as np\n",
    "df=pd.read_csv('C:\\\\Users\\\\maganti akshita\\\\Downloads\\\\archive\\\\signal_metrics.csv')\n",
    "print(df)"
   ]
  },
  {
   "cell_type": "code",
   "execution_count": 4,
   "id": "ff21cd68",
   "metadata": {},
   "outputs": [
    {
     "data": {
      "text/html": [
       "<div>\n",
       "<style scoped>\n",
       "    .dataframe tbody tr th:only-of-type {\n",
       "        vertical-align: middle;\n",
       "    }\n",
       "\n",
       "    .dataframe tbody tr th {\n",
       "        vertical-align: top;\n",
       "    }\n",
       "\n",
       "    .dataframe thead th {\n",
       "        text-align: right;\n",
       "    }\n",
       "</style>\n",
       "<table border=\"1\" class=\"dataframe\">\n",
       "  <thead>\n",
       "    <tr style=\"text-align: right;\">\n",
       "      <th></th>\n",
       "      <th>Timestamp</th>\n",
       "      <th>Locality</th>\n",
       "      <th>Latitude</th>\n",
       "      <th>Longitude</th>\n",
       "      <th>Signal Strength (dBm)</th>\n",
       "      <th>Signal Quality (%)</th>\n",
       "      <th>Data Throughput (Mbps)</th>\n",
       "      <th>Latency (ms)</th>\n",
       "      <th>Network Type</th>\n",
       "      <th>BB60C Measurement (dBm)</th>\n",
       "      <th>srsRAN Measurement (dBm)</th>\n",
       "      <th>BladeRFxA9 Measurement (dBm)</th>\n",
       "    </tr>\n",
       "  </thead>\n",
       "  <tbody>\n",
       "  </tbody>\n",
       "</table>\n",
       "</div>"
      ],
      "text/plain": [
       "Empty DataFrame\n",
       "Columns: [Timestamp, Locality, Latitude, Longitude, Signal Strength (dBm), Signal Quality (%), Data Throughput (Mbps), Latency (ms), Network Type, BB60C Measurement (dBm), srsRAN Measurement (dBm), BladeRFxA9 Measurement (dBm)]\n",
       "Index: []"
      ]
     },
     "execution_count": 4,
     "metadata": {},
     "output_type": "execute_result"
    }
   ],
   "source": [
    "df=df.replace(6.5,6)\n",
    "df[df['Latitude']== 6.5]"
   ]
  },
  {
   "cell_type": "code",
   "execution_count": 3,
   "id": "5936da32",
   "metadata": {},
   "outputs": [
    {
     "ename": "NameError",
     "evalue": "name 'X' is not defined",
     "output_type": "error",
     "traceback": [
      "\u001b[1;31m---------------------------------------------------------------------------\u001b[0m",
      "\u001b[1;31mNameError\u001b[0m                                 Traceback (most recent call last)",
      "Cell \u001b[1;32mIn[3], line 4\u001b[0m\n\u001b[0;32m      1\u001b[0m \u001b[38;5;28;01mimport\u001b[39;00m \u001b[38;5;21;01mnumpy\u001b[39;00m \u001b[38;5;28;01mas\u001b[39;00m \u001b[38;5;21;01mnp\u001b[39;00m\n\u001b[0;32m      2\u001b[0m \u001b[38;5;28;01mfrom\u001b[39;00m \u001b[38;5;21;01msklearn\u001b[39;00m \u001b[38;5;28;01mimport\u001b[39;00m svm\n\u001b[1;32m----> 4\u001b[0m X_train \u001b[38;5;241m=\u001b[39m X \n\u001b[0;32m      5\u001b[0m y_train \u001b[38;5;241m=\u001b[39m y\n\u001b[0;32m      7\u001b[0m \u001b[38;5;66;03m# Create an SVM classifier\u001b[39;00m\n",
      "\u001b[1;31mNameError\u001b[0m: name 'X' is not defined"
     ]
    }
   ],
   "source": [
    "import numpy as np\n",
    "from sklearn import svm\n",
    " \n",
    "X_train = X \n",
    "y_train = y\n",
    " \n",
    "# Create an SVM classifier\n",
    "clf = svm.SVC()\n",
    " \n",
    "# Train the SVM using your dataset\n",
    "clf.fit(X_train, y_train)\n",
    " \n",
    "# Get the support vectors\n",
    "support_vectors = clf.support_vectors_\n",
    " \n",
    "# Print the support vectors\n",
    "print(\"Support Vectors:\")\n",
    "print(support_vectors)"
   ]
  },
  {
   "cell_type": "code",
   "execution_count": null,
   "id": "d5ebd15a",
   "metadata": {},
   "outputs": [],
   "source": []
  }
 ],
 "metadata": {
  "kernelspec": {
   "display_name": "Python 3 (ipykernel)",
   "language": "python",
   "name": "python3"
  },
  "language_info": {
   "codemirror_mode": {
    "name": "ipython",
    "version": 3
   },
   "file_extension": ".py",
   "mimetype": "text/x-python",
   "name": "python",
   "nbconvert_exporter": "python",
   "pygments_lexer": "ipython3",
   "version": "3.11.4"
  }
 },
 "nbformat": 4,
 "nbformat_minor": 5
}
